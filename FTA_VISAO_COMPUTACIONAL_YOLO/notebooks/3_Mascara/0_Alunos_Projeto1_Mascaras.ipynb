{
 "cells": [
  {
   "cell_type": "code",
   "execution_count": null,
   "id": "02d541f1",
   "metadata": {},
   "outputs": [],
   "source": [
    "# Bibliotecas\n",
    "\n",
    "import numpy as np\n",
    "import matplotlib.pyplot as plt\n",
    "from glob import glob\n",
    "import pickle\n",
    "import cv2"
   ]
  },
  {
   "cell_type": "markdown",
   "id": "43b89798-c854-4e2f-aaf7-a1ace6e83645",
   "metadata": {},
   "source": [
    "# **Projeto 1** 🤩🤩🤩"
   ]
  },
  {
   "cell_type": "markdown",
   "id": "87e3eddd-9353-4bb9-8d7e-bc37b29edec6",
   "metadata": {},
   "source": [
    "**Você foi encarregado de criar máscaras para as imagens de plásticos em uma esteira transportadora.  \n",
    "Você deve usar as técnicas que aprendeu (e pesquisar novas técnicas!) para isolar o contorno dessas imagens.**\n",
    "\n",
    "**As imagens estão na pasta:**   \n",
    "../DATA/plastics_png\n",
    "\n",
    "**Seu trabalho será avaliado com base na qualidade das máscaras criadas para as 20 imagens de plásticos.  \n",
    "Você deve fazer apenas um algoritmo que é aplicado a todas as imagens.** "
   ]
  },
  {
   "cell_type": "markdown",
   "id": "d061e253-d622-435a-b157-7798477210b2",
   "metadata": {
    "tags": []
   },
   "source": [
    "---\n",
    "## **Abrindo imagens dos objetos na esteira**"
   ]
  },
  {
   "cell_type": "markdown",
   "id": "e0e3b99e",
   "metadata": {},
   "source": [
    "**Vamos usar o glob para nos ajudar a encontrar todas as imagens dos objetos na esteira, em uma pasta.**  \n",
    "  \n",
    "**Estas imagens foram capturadas pela câmera hiperespecrtral, mas aqui foram escolhidas três camadas dentre as 224, então podemos tratá-las como se fossem RGB.**"
   ]
  },
  {
   "cell_type": "code",
   "execution_count": null,
   "id": "2ceae14c",
   "metadata": {},
   "outputs": [],
   "source": [
    "plastics = glob(r'../DATA/plastics_png/*.png', recursive = True)\n",
    "\n",
    "plastics_color = []\n",
    "plastics_black = []\n",
    "\n",
    "for x in plastics:\n",
    "    plastics_color.append(cv2.imread(x))\n",
    "    plastics_black.append(cv2.imread(x, 0))"
   ]
  },
  {
   "cell_type": "code",
   "execution_count": null,
   "id": "ba0a985e-1281-4068-aed9-1defc0b4e983",
   "metadata": {},
   "outputs": [],
   "source": [
    "# Mostre que na pasta há 20 imagens de esteira com plasticos (len)\n",
    "\n",
    "len(plastics_color)"
   ]
  },
  {
   "cell_type": "code",
   "execution_count": null,
   "id": "4475a94b-fc30-4646-9485-9af77ae5a44c",
   "metadata": {},
   "outputs": [],
   "source": [
    "# Mostre as dimensões da primeira imagem colorida e da primeira em preto e branco (shape)\n",
    "\n",
    "display(plastics_color[0].shape)\n",
    "display(plastics_black[0].shape)"
   ]
  },
  {
   "cell_type": "markdown",
   "id": "8755c77a",
   "metadata": {},
   "source": [
    "  \n",
    "**Vamos ver a primeira imagem colorida:**"
   ]
  },
  {
   "cell_type": "code",
   "execution_count": null,
   "id": "1c717453-7ddc-4273-88c7-8d3e2151e936",
   "metadata": {},
   "outputs": [],
   "source": [
    "# mostre as dimensões da primeira imagem colorida\n",
    "\n",
    "plt.imshow(plastics_color[0])"
   ]
  },
  {
   "cell_type": "markdown",
   "id": "6ec919f3-1652-456a-947c-3e89fde85aba",
   "metadata": {},
   "source": [
    "**Vamos ver a primeira imagem em preto e branco:**"
   ]
  },
  {
   "cell_type": "code",
   "execution_count": null,
   "id": "7247ff54-58c5-4d77-a61f-81fe78d09896",
   "metadata": {},
   "outputs": [],
   "source": [
    "# mostre as dimensões da primeira imagem em preto e branco\n",
    "\n",
    "plt.imshow(plastics_black[0], cmap=\"gray\")"
   ]
  },
  {
   "cell_type": "markdown",
   "id": "77b41748-00ba-48cf-8e01-57ff5c0c81f6",
   "metadata": {},
   "source": [
    "---\n",
    "## **Mostrando as imagens**"
   ]
  },
  {
   "cell_type": "code",
   "execution_count": null,
   "id": "0185958c",
   "metadata": {},
   "outputs": [],
   "source": [
    "# mostre todas as 20 figuras em preto e branco\n",
    "\n",
    "# Dica:\n",
    "# Consulte a documentação do matplotlib sobre como mostrar mais de uma imagem por vez, como está mostrado abaixo\n",
    "\n",
    "fig, x = plt.subplots(4, 5, figsize=(15, 12))\n",
    "\n",
    "x = x.flatten()\n",
    "\n",
    "for idx, plastic in enumerate(plastics_black):\n",
    "    if idx < len(x):\n",
    "        x[idx].imshow(plastic, cmap=\"gray\") \n",
    "\n",
    "plt.tight_layout()  # Ajusta automaticamente o layout dos subplots\n",
    "plt.show()          # Exibe a figura que você criou"
   ]
  },
  {
   "cell_type": "code",
   "execution_count": null,
   "id": "a76bf8e2-54a2-4380-b0b9-29fd878a2947",
   "metadata": {},
   "outputs": [],
   "source": [
    "# O resultado esperado é parecido com este:"
   ]
  },
  {
   "cell_type": "code",
   "execution_count": null,
   "id": "ffb6d1ba-f505-47fc-a5a2-bf81a77916e3",
   "metadata": {},
   "outputs": [],
   "source": [
    "# mostre todas as 20 figuras coloridas\n",
    "\n",
    "# Dica:\n",
    "# Consulte a documentação do matplotlib sobre como mostrar mais de uma imagem por vez, como está mostrado abaixo\n",
    "\n",
    "fig, x = plt.subplots(4, 5, figsize=(15, 12))\n",
    "\n",
    "x = x.flatten()\n",
    "\n",
    "for idx, plastic in enumerate(plastics_color):\n",
    "    if idx < len(x):\n",
    "        x[idx].imshow(plastic) \n",
    "\n",
    "plt.tight_layout()  # Ajusta automaticamente o layout dos subplots\n",
    "plt.show()          # Exibe a figura que você criou"
   ]
  },
  {
   "cell_type": "code",
   "execution_count": null,
   "id": "a93ac2a9-f839-4ef4-a372-49fa52aa282c",
   "metadata": {},
   "outputs": [],
   "source": [
    "# O resultado esperado é parecido com este:"
   ]
  },
  {
   "cell_type": "markdown",
   "id": "670fcdf1-1d97-4412-8c10-975364913e15",
   "metadata": {},
   "source": [
    "### 👉 **Agora responda as perguntas** 🤔🤔🤔\n",
    "\n",
    "**1) Quantas camadas tem cada uma das imagens coloridas? e as imagens em preto e branco?** "
   ]
  },
  {
   "cell_type": "markdown",
   "id": "f0186c5c-0906-4b67-a7eb-98178858f256",
   "metadata": {},
   "source": []
  },
  {
   "cell_type": "markdown",
   "id": "91678105-7364-4a08-a767-116f92f367b1",
   "metadata": {},
   "source": [
    "**2) Se as imagens foram tiradas usando câmeras hiperespectrais, por que não têm muitas camadas?**"
   ]
  },
  {
   "cell_type": "markdown",
   "id": "a7588afa-f418-4167-8554-484976b7a2c2",
   "metadata": {},
   "source": []
  },
  {
   "cell_type": "markdown",
   "id": "f07963ce-f570-48ce-8b2d-120f0170b36a",
   "metadata": {},
   "source": [
    "**2) Por que as imagens coloridas estão com essas cores esquisitas?**"
   ]
  },
  {
   "cell_type": "markdown",
   "id": "0e2de155-29fb-4c54-8adc-b05957c91430",
   "metadata": {},
   "source": []
  },
  {
   "cell_type": "markdown",
   "id": "6992d5ca-f59f-4ecf-8210-4d5c62028e41",
   "metadata": {},
   "source": [
    "**3) Por que as máscaras são importantes no problema de classificação dos materiais?**"
   ]
  },
  {
   "cell_type": "markdown",
   "id": "542ebc83-5de9-4fbd-b0f6-60a3f1bd510a",
   "metadata": {},
   "source": []
  },
  {
   "cell_type": "markdown",
   "id": "96a80576-2d70-48ae-8ec4-3b794e2cfbf0",
   "metadata": {},
   "source": [
    "---\n",
    "## **Algoritmo para fazer as máscaras**"
   ]
  },
  {
   "cell_type": "code",
   "execution_count": null,
   "id": "3ba6d796-2005-48af-9ef9-d9ce3c91ff8f",
   "metadata": {},
   "outputs": [],
   "source": [
    "# Explore a documentação do OpenCV, crie e teste estratégias de criação de máscaras nas imagens\n",
    "# Note que, idealmente, não queremos que as sombras estejam nas mascaras, queremos identificar apenas os objetos\n",
    "# Seu algoritmo deve deixar branco apenas os objetos que estamos interessados, sem incluir sombras nem ruídos.\n",
    "\n",
    "# Vocês podem consultar foruns e outras bibliotecas; O importante é resolver o problema! :)\n",
    "# Podem trocar ideias e conversar sobre as soluções, mas cada aluno deve escrever o seu código\n",
    "\n",
    "\n",
    "# ---\n",
    "# seu código vai aqui\n",
    "#---"
   ]
  },
  {
   "cell_type": "code",
   "execution_count": null,
   "id": "1016bdcb",
   "metadata": {},
   "outputs": [],
   "source": [
    "def mascara(img):\n",
    "    t, thresh = cv2.threshold(img, 100, 255, cv2.THRESH_BINARY)\n",
    "    return thresh"
   ]
  },
  {
   "cell_type": "code",
   "execution_count": null,
   "id": "ade25a7f",
   "metadata": {},
   "outputs": [],
   "source": [
    "# fig, axes = plt.subplot(1,2, figsize=(15,12))\n",
    "\n",
    "# plt.imshow(plastics_color[0])\n",
    "# plt.imshow(mascara(plastics_black[0]))\n",
    "\n",
    "fig, x = plt.subplots(20, 2, figsize=(22, 500))\n",
    "\n",
    "for idx in range(len(plastics_color)):\n",
    "    if idx < len(x):\n",
    "        x[idx,0].imshow(plastics_color[idx])\n",
    "        x[idx,1].imshow(mascara(plastics_black[idx]), cmap=\"gray\") \n",
    "\n",
    "# plt.tight_layout()  # Ajusta automaticamente o layout dos subplots\n",
    "plt.show()          # Exibe a figura que você criou\n",
    "\n"
   ]
  },
  {
   "cell_type": "markdown",
   "id": "155c6007-bc1f-4675-a960-9c5c070d12db",
   "metadata": {},
   "source": [
    "---\n",
    "## **Mostre seu reultado e compare com as imagens originais, uma a uma:** "
   ]
  },
  {
   "cell_type": "code",
   "execution_count": null,
   "id": "573bc9cd-e6f3-4174-bd10-9d7555a9a0b9",
   "metadata": {},
   "outputs": [],
   "source": [
    "# Mostre seu reultado e compare com as imagens originais, uma a uma.\n",
    "\n",
    "# Dica:\n",
    "# Consulte a documentação do matplotlib sobre como mostrar mais de uma imagem por vez, como está mostrado abaixo\n",
    "\n",
    "\n",
    "# ---\n",
    "# seu código vai aqui\n",
    "#---"
   ]
  },
  {
   "cell_type": "code",
   "execution_count": null,
   "id": "b27edfe8-fa67-4c05-81b6-00ddbb306544",
   "metadata": {},
   "outputs": [],
   "source": [
    "# A seguir temos um exemplo de como as imagens devem ser mostradas, mas o resultado apresentado não está satisfatório! \n",
    "# Esperamos que o seu esteja melhor ;)"
   ]
  },
  {
   "cell_type": "markdown",
   "id": "3d8f3621-a1a6-45a3-93fb-02487da1d6b1",
   "metadata": {},
   "source": [
    "### 👉 **Agora responda as perguntas** 🤔🤔🤔\n",
    "\n",
    "**1) Quais foram os pontos mais difíceis de se criar uma máscara de qualidade?** "
   ]
  },
  {
   "cell_type": "markdown",
   "id": "d6ab305a-8640-42b0-a213-f8b9298cd5e0",
   "metadata": {},
   "source": []
  },
  {
   "cell_type": "markdown",
   "id": "5654890a-bd12-4b8a-926f-a17bd1cc69c6",
   "metadata": {},
   "source": [
    "---\n",
    "# 🥳🥳🥳 Bom trabalho!"
   ]
  }
 ],
 "metadata": {
  "kernelspec": {
   "display_name": "Python 3 (ipykernel)",
   "language": "python",
   "name": "python3"
  },
  "language_info": {
   "codemirror_mode": {
    "name": "ipython",
    "version": 3
   },
   "file_extension": ".py",
   "mimetype": "text/x-python",
   "name": "python",
   "nbconvert_exporter": "python",
   "pygments_lexer": "ipython3",
   "version": "3.10.14"
  }
 },
 "nbformat": 4,
 "nbformat_minor": 5
}
