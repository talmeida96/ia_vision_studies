{
 "cells": [
  {
   "cell_type": "markdown",
   "metadata": {
    "tags": []
   },
   "source": [
    "# **Numpy**"
   ]
  },
  {
   "cell_type": "markdown",
   "metadata": {},
   "source": [
    "Segundo a [documentação oficial](https://numpy.org/doc/), NumPy é um pacote para computação científica em Python.  "
   ]
  },
  {
   "cell_type": "markdown",
   "metadata": {
    "jp-MarkdownHeadingCollapsed": true,
    "tags": []
   },
   "source": [
    "---\n",
    "## **Instalação**\n"
   ]
  },
  {
   "cell_type": "markdown",
   "metadata": {},
   "source": [
    "A instalação do pocote pode ser feita usando um dos comandos abaixo: \n",
    "\n",
    "- `conda install numpy`, caso utilize o [Anaconda](https://www.anaconda.com/) \n",
    "- `pip install numpy`, caso contrário "
   ]
  },
  {
   "cell_type": "markdown",
   "metadata": {
    "jp-MarkdownHeadingCollapsed": true,
    "tags": []
   },
   "source": [
    "---\n",
    "## **Importando o NumPy**"
   ]
  },
  {
   "cell_type": "code",
   "execution_count": 2,
   "metadata": {},
   "outputs": [],
   "source": [
    "# Importando o Numpy:\n",
    "\n",
    "# ---\n",
    "# seu código vai aqui\n",
    "#---"
   ]
  },
  {
   "cell_type": "markdown",
   "metadata": {
    "jp-MarkdownHeadingCollapsed": true,
    "tags": []
   },
   "source": [
    "---\n",
    "## **Numpy Arrays**"
   ]
  },
  {
   "cell_type": "markdown",
   "metadata": {},
   "source": [
    "**Para criar um numpy array podemos declarar uma lista e utilizá-la como parâmetro para a função array():**"
   ]
  },
  {
   "cell_type": "code",
   "execution_count": 3,
   "metadata": {},
   "outputs": [],
   "source": [
    "#lista 1\n",
    "\n",
    "# ---\n",
    "# seu código vai aqui\n",
    "#---"
   ]
  },
  {
   "cell_type": "code",
   "execution_count": 4,
   "metadata": {},
   "outputs": [],
   "source": [
    "# array 1\n",
    "\n",
    "# ---\n",
    "# seu código vai aqui\n",
    "#---"
   ]
  },
  {
   "cell_type": "markdown",
   "metadata": {},
   "source": [
    "💡 **Note que podemos criar uma matriz a partir de um cojunto de listas ou de arrays:**"
   ]
  },
  {
   "cell_type": "code",
   "execution_count": 5,
   "metadata": {},
   "outputs": [],
   "source": [
    "# matriz gerada a partir das listas 1\n",
    "\n",
    "# ---\n",
    "# seu código vai aqui\n",
    "#---"
   ]
  },
  {
   "cell_type": "code",
   "execution_count": 6,
   "metadata": {},
   "outputs": [],
   "source": [
    "# matriz gerada a partir das listas 2\n",
    "\n",
    "# ---\n",
    "# seu código vai aqui\n",
    "#---"
   ]
  },
  {
   "cell_type": "code",
   "execution_count": 7,
   "metadata": {},
   "outputs": [],
   "source": [
    "# matriz gerada a partir dos arrays 1\n",
    "\n",
    "# ---\n",
    "# seu código vai aqui\n",
    "#---\n"
   ]
  },
  {
   "cell_type": "markdown",
   "metadata": {
    "jp-MarkdownHeadingCollapsed": true,
    "tags": []
   },
   "source": [
    "---\n",
    "## **Inicializando valores dos arrays**"
   ]
  },
  {
   "cell_type": "markdown",
   "metadata": {},
   "source": [
    "Funções para criar e inicializar arrays: \n",
    "- `arange()`\n",
    "- `zeros()`\n",
    "- `ones()`\n",
    "- `linspace()` \n",
    "- `eye()`"
   ]
  },
  {
   "cell_type": "markdown",
   "metadata": {
    "tags": []
   },
   "source": [
    "---\n",
    "### 👉 **arange()**"
   ]
  },
  {
   "cell_type": "markdown",
   "metadata": {},
   "source": [
    "**Cria uma sequência de números entre um valor inicial, um valor final. Note que os valores intermediários podem ter o valor de incremento personalizado:**  "
   ]
  },
  {
   "cell_type": "code",
   "execution_count": 8,
   "metadata": {},
   "outputs": [],
   "source": [
    "# Consulte a documentação:\n",
    "\n",
    "# ---\n",
    "# seu código vai aqui\n",
    "#---"
   ]
  },
  {
   "cell_type": "markdown",
   "metadata": {},
   "source": [
    "**Como pode ser visto na documentação, a sintaxe esperada é:**  \n",
    "- `a = np.arange(inicio, fim, passo)`"
   ]
  },
  {
   "cell_type": "code",
   "execution_count": 9,
   "metadata": {},
   "outputs": [],
   "source": [
    "# Crie um array com 10 elementos:\n",
    "\n",
    "# ---\n",
    "# seu código vai aqui\n",
    "#---"
   ]
  },
  {
   "cell_type": "markdown",
   "metadata": {},
   "source": [
    "💡 **Note que o primeiro valor \"0\" está incluído no array e que o último valor \"10\" não é incluído.**"
   ]
  },
  {
   "cell_type": "code",
   "execution_count": 10,
   "metadata": {},
   "outputs": [],
   "source": [
    "# Crie um array com os múmeros pares de 0 até 10\n",
    "\n",
    "# ---\n",
    "# seu código vai aqui\n",
    "#---"
   ]
  },
  {
   "cell_type": "markdown",
   "metadata": {
    "tags": []
   },
   "source": [
    "---\n",
    "### 👉 **zeros() e ones()**"
   ]
  },
  {
   "cell_type": "markdown",
   "metadata": {},
   "source": [
    "**Criam arrays contendo apenas valores iguais a 0 (zero) ou 1 (um), respectivamente.**  \n",
    "**As sintaxes esperadas são:**   \n",
    "- `a = np.zeros((dim1, dim2, dim3, ...))`  \n",
    "- `b = np.ones((dim1, dim2, dim3, ...))`"
   ]
  },
  {
   "cell_type": "code",
   "execution_count": 11,
   "metadata": {},
   "outputs": [],
   "source": [
    "# criar um array com três elementos 0\n",
    "\n",
    "# ---\n",
    "# seu código vai aqui\n",
    "#---"
   ]
  },
  {
   "cell_type": "code",
   "execution_count": 12,
   "metadata": {},
   "outputs": [],
   "source": [
    "# criar uma matriz 5x5 preenchida com elementos 0\n",
    "\n",
    "# ---\n",
    "# seu código vai aqui\n",
    "#---"
   ]
  },
  {
   "cell_type": "code",
   "execution_count": 13,
   "metadata": {},
   "outputs": [],
   "source": [
    "# criar um array com três elementos 1\n",
    "\n",
    "# ---\n",
    "# seu código vai aqui\n",
    "#---"
   ]
  },
  {
   "cell_type": "code",
   "execution_count": 14,
   "metadata": {},
   "outputs": [],
   "source": [
    "# criar uma matriz 3x3 preenchida com elementos 1\n",
    "\n",
    "# ---\n",
    "# seu código vai aqui\n",
    "#---"
   ]
  },
  {
   "cell_type": "markdown",
   "metadata": {
    "tags": []
   },
   "source": [
    "---\n",
    "### 👉 **linspace()**"
   ]
  },
  {
   "cell_type": "markdown",
   "metadata": {},
   "source": [
    "**Cria valores igualmente espaçados em um determinado intervalo.**   \n",
    "**A sintaxe esperada é:**   \n",
    "- `a = np.linspace(inicio, fim, quantidade)`"
   ]
  },
  {
   "cell_type": "code",
   "execution_count": 15,
   "metadata": {},
   "outputs": [],
   "source": [
    "# criar uma sequencia de 3 números entre 0 e 10, igualmente espaçados entre si:\n",
    "\n",
    "# ---\n",
    "# seu código vai aqui\n",
    "#---"
   ]
  },
  {
   "cell_type": "code",
   "execution_count": 16,
   "metadata": {},
   "outputs": [],
   "source": [
    "# criar uma sequencia de 15 números entre 0 e 10, igualmente espaçados entre si:\n",
    "\n",
    "# ---\n",
    "# seu código vai aqui\n",
    "#---"
   ]
  },
  {
   "cell_type": "markdown",
   "metadata": {
    "tags": []
   },
   "source": [
    "---\n",
    "### 👉 **eye()**"
   ]
  },
  {
   "cell_type": "markdown",
   "metadata": {},
   "source": [
    "**Cria uma matriz identidade, ou seja, uma matriz cuja diagonal principal tem valores 1, e todos os outros valores são 0.**  \n",
    "**A sintaxe esperada é:**   \n",
    "- `a = np.eye(dimensão)`"
   ]
  },
  {
   "cell_type": "code",
   "execution_count": 17,
   "metadata": {},
   "outputs": [],
   "source": [
    "# criar uma matriz identidade de dimensões 4x4:\n",
    "\n",
    "# ---\n",
    "# seu código vai aqui\n",
    "#---"
   ]
  },
  {
   "cell_type": "markdown",
   "metadata": {
    "tags": []
   },
   "source": [
    "---\n",
    "## **Atributos e métodos de arrays**"
   ]
  },
  {
   "cell_type": "markdown",
   "metadata": {},
   "source": [
    "**São funções e atributos intrínsicos dos arrays, considerados dados internos. Vejamos alguns exemplos a seguir.**"
   ]
  },
  {
   "cell_type": "markdown",
   "metadata": {
    "jp-MarkdownHeadingCollapsed": true,
    "tags": []
   },
   "source": [
    "---\n",
    "### 👉 **reshape()**"
   ]
  },
  {
   "cell_type": "markdown",
   "metadata": {},
   "source": [
    "**Altera as dimensões de um array, desde que as dimensões inicias e finais sejam compatíveis.**  \n",
    "**A sintaxe esperada é:**   \n",
    "- `a.reshape((dim1, dim2, dim3, ...))` "
   ]
  },
  {
   "cell_type": "code",
   "execution_count": 18,
   "metadata": {},
   "outputs": [],
   "source": [
    "# cria um array de 25 elementos:\n",
    "\n",
    "# ---\n",
    "# seu código vai aqui\n",
    "#---"
   ]
  },
  {
   "cell_type": "code",
   "execution_count": 19,
   "metadata": {},
   "outputs": [],
   "source": [
    "# redimensiona o array para um matriz de dimensoes 5x5:\n",
    "\n",
    "# ---\n",
    "# seu código vai aqui\n",
    "#---"
   ]
  },
  {
   "cell_type": "markdown",
   "metadata": {
    "jp-MarkdownHeadingCollapsed": true,
    "tags": []
   },
   "source": [
    "---\n",
    "### 👉 **max()**, **min()**, **argmax()** e **argmin()**"
   ]
  },
  {
   "cell_type": "markdown",
   "metadata": {},
   "source": [
    "**Retornam os valores máximo, mínimo, o índice do valor máximo e índice do valor mínimo de um array, respectivamete.**"
   ]
  },
  {
   "cell_type": "code",
   "execution_count": 20,
   "metadata": {},
   "outputs": [],
   "source": [
    "#cria um array com valores aleatórios\n",
    "\n",
    "# ---\n",
    "# seu código vai aqui\n",
    "#---"
   ]
  },
  {
   "cell_type": "code",
   "execution_count": 21,
   "metadata": {},
   "outputs": [],
   "source": [
    "#informa o valor máximo do array\n",
    "\n",
    "# ---\n",
    "# seu código vai aqui\n",
    "#---"
   ]
  },
  {
   "cell_type": "code",
   "execution_count": 22,
   "metadata": {},
   "outputs": [],
   "source": [
    "#informa o indice do elemento de valor máximo do array, ou seja, a posição que ele ocupa no array\n",
    "\n",
    "# ---\n",
    "# seu código vai aqui\n",
    "#---"
   ]
  },
  {
   "cell_type": "code",
   "execution_count": 23,
   "metadata": {},
   "outputs": [],
   "source": [
    "#informa o valor mínimo do array\n",
    "\n",
    "# ---\n",
    "# seu código vai aqui\n",
    "#---"
   ]
  },
  {
   "cell_type": "code",
   "execution_count": 24,
   "metadata": {},
   "outputs": [],
   "source": [
    "#informa o indice do elemento de valor mínimo do array, ou seja, a posição que ele ocupa no array\n",
    "\n",
    "# ---\n",
    "# seu código vai aqui\n",
    "#---"
   ]
  },
  {
   "cell_type": "markdown",
   "metadata": {
    "jp-MarkdownHeadingCollapsed": true,
    "tags": []
   },
   "source": [
    "---\n",
    "### 👉 **shape**"
   ]
  },
  {
   "cell_type": "markdown",
   "metadata": {},
   "source": [
    "**É uma tupla que armazena as dimensões do array**"
   ]
  },
  {
   "cell_type": "code",
   "execution_count": 26,
   "metadata": {},
   "outputs": [],
   "source": [
    "# ---\n",
    "# seu código vai aqui\n",
    "#---"
   ]
  },
  {
   "cell_type": "code",
   "execution_count": 27,
   "metadata": {},
   "outputs": [],
   "source": [
    "# ---\n",
    "# seu código vai aqui\n",
    "#---"
   ]
  },
  {
   "cell_type": "markdown",
   "metadata": {
    "tags": []
   },
   "source": [
    "---\n",
    "### 👉 **dtype()**"
   ]
  },
  {
   "cell_type": "markdown",
   "metadata": {},
   "source": [
    "**Informa qual é o tipo de variável dos elementos do array**"
   ]
  },
  {
   "cell_type": "code",
   "execution_count": 28,
   "metadata": {},
   "outputs": [],
   "source": [
    "# ---\n",
    "# seu código vai aqui\n",
    "#---"
   ]
  },
  {
   "cell_type": "code",
   "execution_count": 29,
   "metadata": {},
   "outputs": [],
   "source": [
    "# ---\n",
    "# seu código vai aqui\n",
    "#---"
   ]
  },
  {
   "cell_type": "markdown",
   "metadata": {
    "tags": []
   },
   "source": [
    "---\n",
    "## **Seleção e indexação de numpy arrays**"
   ]
  },
  {
   "cell_type": "markdown",
   "metadata": {
    "tags": []
   },
   "source": [
    "---\n",
    "### 👉 **Seleção por chaves**"
   ]
  },
  {
   "cell_type": "markdown",
   "metadata": {},
   "source": [
    "Possibilita selecionar um ou mais elementos de um array"
   ]
  },
  {
   "cell_type": "code",
   "execution_count": 30,
   "metadata": {},
   "outputs": [],
   "source": [
    "# cria um array\n",
    "\n",
    "# ---\n",
    "# seu código vai aqui\n",
    "#---"
   ]
  },
  {
   "cell_type": "code",
   "execution_count": 31,
   "metadata": {},
   "outputs": [],
   "source": [
    "# mostra o elemento da 5a posição\n",
    "\n",
    "# ---\n",
    "# seu código vai aqui\n",
    "#---"
   ]
  },
  {
   "cell_type": "code",
   "execution_count": 32,
   "metadata": {},
   "outputs": [],
   "source": [
    "# mostra os elementos do intervalo desde até o segundo elemento até o quinto elemento\n",
    "# note que o segundo elemento é incluído e o quinto elemento não é incluído\n",
    "\n",
    "# ---\n",
    "# seu código vai aqui\n",
    "#---"
   ]
  },
  {
   "cell_type": "code",
   "execution_count": 33,
   "metadata": {},
   "outputs": [],
   "source": [
    "# ---\n",
    "# seu código vai aqui\n",
    "#---"
   ]
  },
  {
   "cell_type": "markdown",
   "metadata": {
    "tags": []
   },
   "source": [
    "---\n",
    "### 👉 ***Broadcasting***"
   ]
  },
  {
   "cell_type": "markdown",
   "metadata": {},
   "source": [
    "Realiza as operações elemento a elemento"
   ]
  },
  {
   "cell_type": "code",
   "execution_count": 44,
   "metadata": {},
   "outputs": [
    {
     "name": "stdout",
     "output_type": "stream",
     "text": [
      "[0 1 2 3 4 5 6 7 8 9]\n"
     ]
    }
   ],
   "source": [
    "# cria um array\n",
    "\n",
    "# ---\n",
    "# seu código vai aqui\n",
    "#---"
   ]
  },
  {
   "cell_type": "code",
   "execution_count": 45,
   "metadata": {},
   "outputs": [
    {
     "data": {
      "text/plain": [
       "array([ 0,  2,  4,  6,  8, 10, 12, 14, 16, 18])"
      ]
     },
     "execution_count": 45,
     "metadata": {},
     "output_type": "execute_result"
    }
   ],
   "source": [
    "# soma realizada elemento a elemento\n",
    "\n",
    "# ---\n",
    "# seu código vai aqui\n",
    "#---"
   ]
  },
  {
   "cell_type": "code",
   "execution_count": 46,
   "metadata": {},
   "outputs": [
    {
     "data": {
      "text/plain": [
       "array([ 0,  1,  4,  9, 16, 25, 36, 49, 64, 81])"
      ]
     },
     "execution_count": 46,
     "metadata": {},
     "output_type": "execute_result"
    }
   ],
   "source": [
    "# multiplicação realizada elemento a elemento\n",
    "\n",
    "# ---\n",
    "# seu código vai aqui\n",
    "#---"
   ]
  },
  {
   "cell_type": "code",
   "execution_count": 47,
   "metadata": {},
   "outputs": [
    {
     "data": {
      "text/plain": [
       "array([0, 0, 0, 0, 0, 0, 0, 0, 0, 0])"
      ]
     },
     "execution_count": 47,
     "metadata": {},
     "output_type": "execute_result"
    }
   ],
   "source": [
    "# subtração realizada elemento a elemento\n",
    "\n",
    "# ---\n",
    "# seu código vai aqui\n",
    "#---"
   ]
  },
  {
   "cell_type": "code",
   "execution_count": 48,
   "metadata": {},
   "outputs": [
    {
     "name": "stderr",
     "output_type": "stream",
     "text": [
      "/tmp/ipykernel_11927/3494184251.py:3: RuntimeWarning: invalid value encountered in true_divide\n",
      "  arr/arr\n"
     ]
    },
    {
     "data": {
      "text/plain": [
       "array([nan,  1.,  1.,  1.,  1.,  1.,  1.,  1.,  1.,  1.])"
      ]
     },
     "execution_count": 48,
     "metadata": {},
     "output_type": "execute_result"
    }
   ],
   "source": [
    "# divisão realizada elemento a alemento \n",
    "# note que a divisão por zero gera um aviso e seu resultado é um NaN\n",
    "\n",
    "# ---\n",
    "# seu código vai aqui\n",
    "#---"
   ]
  },
  {
   "cell_type": "code",
   "execution_count": 49,
   "metadata": {},
   "outputs": [
    {
     "data": {
      "text/plain": [
       "array([ 0,  1,  4,  9, 16, 25, 36, 49, 64, 81])"
      ]
     },
     "execution_count": 49,
     "metadata": {},
     "output_type": "execute_result"
    }
   ],
   "source": [
    "# exponenciação elemento a elemento\n",
    "\n",
    "# ---\n",
    "# seu código vai aqui\n",
    "#---"
   ]
  },
  {
   "cell_type": "markdown",
   "metadata": {},
   "source": [
    "---\n",
    "# 🥳🥳🥳 Bom trabalho!"
   ]
  }
 ],
 "metadata": {
  "kernelspec": {
   "display_name": "Python 3 (ipykernel)",
   "language": "python",
   "name": "python3"
  },
  "language_info": {
   "codemirror_mode": {
    "name": "ipython",
    "version": 3
   },
   "file_extension": ".py",
   "mimetype": "text/x-python",
   "name": "python",
   "nbconvert_exporter": "python",
   "pygments_lexer": "ipython3",
   "version": "3.9.7"
  }
 },
 "nbformat": 4,
 "nbformat_minor": 4
}
