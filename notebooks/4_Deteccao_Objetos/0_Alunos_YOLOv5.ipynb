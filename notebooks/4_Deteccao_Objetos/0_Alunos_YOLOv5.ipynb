{
 "cells": [
  {
   "cell_type": "markdown",
   "id": "cf45db25",
   "metadata": {},
   "source": [
    "# **Projeto 2** 🤩🤩🤩\n",
    "# **Manipulação de imagens com OpenCV**"
   ]
  },
  {
   "cell_type": "markdown",
   "id": "c1a986f0",
   "metadata": {
    "tags": []
   },
   "source": [
    "---\n",
    "## Importe o dataset que criamos"
   ]
  },
  {
   "cell_type": "code",
   "execution_count": null,
   "id": "eb3f06d5-7dba-44f1-a31c-5565f1c43268",
   "metadata": {},
   "outputs": [],
   "source": [
    "# cole aqui seu código de download gerado pelo roboflow\n",
    "\n",
    "!pip install roboflow\n",
    "\n",
    "from roboflow import Roboflow\n",
    "rf = Roboflow(api_key=\"VQuD8MC4QFrnhmf0FB2j\")\n",
    "project = rf.workspace(\"projeto2-t5w7j\").project(\"projeto_aline\")\n",
    "dataset = project.version(1).download(\"yolov5\")"
   ]
  },
  {
   "cell_type": "markdown",
   "id": "c445f7cd-bcd6-4263-9161-9209784497f9",
   "metadata": {},
   "source": [
    "---\n",
    "## Importe o modelo do YOLOv5"
   ]
  },
  {
   "cell_type": "code",
   "execution_count": null,
   "id": "3edb731f-26e0-423b-aacc-273c6f33eb77",
   "metadata": {},
   "outputs": [],
   "source": [
    "# diretório de trabalho\n",
    "\n",
    "import os\n",
    "meu_dir = os.getcwd()\n",
    "meu_dir"
   ]
  },
  {
   "cell_type": "code",
   "execution_count": null,
   "id": "6cff7ad8",
   "metadata": {},
   "outputs": [],
   "source": [
    "# Clonar o repositório do Github\n",
    "!git clone https://github.com/ultralytics/yolov5 "
   ]
  },
  {
   "cell_type": "markdown",
   "id": "014f7caa-d5e5-4560-8fa8-c2a1412c1026",
   "metadata": {
    "jp-MarkdownHeadingCollapsed": true,
    "tags": []
   },
   "source": [
    "_  \n",
    "**Entrando na pasta dos scripts:**"
   ]
  },
  {
   "cell_type": "code",
   "execution_count": null,
   "id": "6cc11143-fe68-4d4a-a1a7-2ee9c6b071ee",
   "metadata": {},
   "outputs": [],
   "source": [
    "cd \"yolov5\""
   ]
  },
  {
   "cell_type": "code",
   "execution_count": null,
   "id": "6e828db9-d5af-4c6a-93a0-473700b8b830",
   "metadata": {},
   "outputs": [],
   "source": [
    "# Instalação de dependências\n",
    "!pip install -qr requirements.txt\n",
    "\n",
    "# Remover versão do PyTorch e substituir pela mais atualizada\n",
    "!pip uninstall torch -y\n",
    "!pip uninstall torchvision -y\n",
    "!pip install torch torchvision --extra-index-url https://download.pytorch.org/whl/cu113\n"
   ]
  },
  {
   "cell_type": "markdown",
   "id": "ba505bf8",
   "metadata": {
    "tags": []
   },
   "source": [
    "---\n",
    "## Treinamento do modelo  \n",
    "Com o dataset criado, dividido e rotulado, podemos começar o treinamento 😍 "
   ]
  },
  {
   "cell_type": "markdown",
   "id": "9fdbbfbe-c685-4f87-8b06-38fe473d46c7",
   "metadata": {},
   "source": [
    "### Biblioteca para analisar resultados:\n",
    "👉 **acesse https://wandb.ai/signup e crie uma conta e copie sua chave de autenticação.**\n",
    "\n",
    "👉 Num novo terminal, ative nosso ambiente, execute os comandos abaixo e cole a sua chave quando for pedida:  \n",
    "\n",
    ">**!pip install wandb**  \n",
    ">**wandb login** "
   ]
  },
  {
   "cell_type": "code",
   "execution_count": null,
   "id": "1b11ef9a",
   "metadata": {},
   "outputs": [],
   "source": [
    "# Importando o Pytorch para verificar as versões e qual dispositivo será usado para o treinamento\n",
    "from IPython import display\n",
    "import torch\n",
    "import warnings\n",
    "warnings.filterwarnings('ignore')\n",
    "print(\"Usando torch {} {}\".format(torch.__version__, torch.cuda.get_device_properties(0) if torch.cuda.is_available() else \"CPU\"))"
   ]
  },
  {
   "cell_type": "markdown",
   "id": "71f54bb3-fd1b-47a8-a14d-ccc57feed506",
   "metadata": {},
   "source": [
    "👉 **Mova a pasta com os arquivos do dataset para a pasta yolov5 antes de iniciar o treinamento.**  \n",
    "No meu caso, vou mover a pasta \"Projeto_Aline-1\" para a pasta \"yolov5\"\n"
   ]
  },
  {
   "cell_type": "markdown",
   "id": "fa686fee",
   "metadata": {},
   "source": [
    "👉 **Quando quiser começar a treinar execute o código da célula abaixo, mas antes lembre-se de substituir o nome do projeto pelo nome que você usou em seu projeto**\n",
    " \n",
    "O código usa alguns parametros, veja o que eles indicam:  \n",
    "* **--img** \n",
    "    * especifica resolução das imagens de entrada  \n",
    "    \n",
    "* **--batch** \n",
    "    * número de imagens usadas para treinamento por época   \n",
    "    * Nós não passamos o dataset inteiro de uma só vez na rede neural, ao invés disso, nós dividimos o dataser em várias partes (batches)\n",
    "    \n",
    "* **--epochs** \n",
    "    * número de épocas \n",
    "    * Uma época representa a iteração sobre o dataset inteiro\n",
    "    \n",
    "* **--data** \n",
    "    * caminho para o arquivo *.yaml que vem dentro do zip do dataset   \n",
    "    \n",
    "* **--weights** \n",
    "    * OPCIONAL: escolher pesos pré-treinados no seu treinamento  \n",
    "\n",
    "Quando finalizado, os resultados e pesos do treinamento ficam salvos na pasta **runs** dentro da pasta do repositório"
   ]
  },
  {
   "cell_type": "code",
   "execution_count": null,
   "id": "1234d6e2",
   "metadata": {},
   "outputs": [],
   "source": [
    "!python train.py --img 640 --batch 16 --epochs 100 --data Projeto_Aline-1/data.yaml --weights yolov5s.pt"
   ]
  },
  {
   "cell_type": "markdown",
   "id": "d7ff25e5-0af0-4b2b-8781-26edd0a5bf5c",
   "metadata": {},
   "source": [
    "**Acesse a pagina dos resultados indicado no código do trienamento; é a linha que começa com uma estrelinha:**  \n",
    "> wandb: ⭐️ View project at https://wandb.ai/..."
   ]
  },
  {
   "cell_type": "markdown",
   "id": "25bd4eed-c591-4774-a9af-bacd4a29b186",
   "metadata": {},
   "source": [
    "Analise os seus resultados! "
   ]
  },
  {
   "cell_type": "markdown",
   "id": "0d1643a0-da3c-4b7c-b187-3ea5cfd6fe53",
   "metadata": {
    "tags": []
   },
   "source": [
    "---\n",
    "# 🥳🥳🥳 Bom trabalho!"
   ]
  }
 ],
 "metadata": {
  "kernelspec": {
   "display_name": "Python 3 (ipykernel)",
   "language": "python",
   "name": "python3"
  },
  "language_info": {
   "codemirror_mode": {
    "name": "ipython",
    "version": 3
   },
   "file_extension": ".py",
   "mimetype": "text/x-python",
   "name": "python",
   "nbconvert_exporter": "python",
   "pygments_lexer": "ipython3",
   "version": "3.9.7"
  }
 },
 "nbformat": 4,
 "nbformat_minor": 5
}
